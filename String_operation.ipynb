{
  "nbformat": 4,
  "nbformat_minor": 0,
  "metadata": {
    "colab": {
      "provenance": [],
      "authorship_tag": "ABX9TyOtJEmM3IIeWz//9k1aoD0l",
      "include_colab_link": true
    },
    "kernelspec": {
      "name": "python3",
      "display_name": "Python 3"
    },
    "language_info": {
      "name": "python"
    }
  },
  "cells": [
    {
      "cell_type": "markdown",
      "metadata": {
        "id": "view-in-github",
        "colab_type": "text"
      },
      "source": [
        "<a href=\"https://colab.research.google.com/github/ajaysubudhi/python/blob/main/String_operation.ipynb\" target=\"_parent\"><img src=\"https://colab.research.google.com/assets/colab-badge.svg\" alt=\"Open In Colab\"/></a>"
      ]
    },
    {
      "cell_type": "code",
      "execution_count": 4,
      "metadata": {
        "colab": {
          "base_uri": "https://localhost:8080/"
        },
        "id": "85KIkuEfl8px",
        "outputId": "3b1851a5-60a0-406b-ec22-085c47a19a47"
      },
      "outputs": [
        {
          "output_type": "stream",
          "name": "stdout",
          "text": [
            "4\n"
          ]
        }
      ],
      "source": [
        "Str1 =\"Ajay Kumar Aja kuma aja ajay subudhi aj\"\n",
        "str2 = \"ja\"\n",
        "print(Str1.count(str2))\n"
      ]
    },
    {
      "cell_type": "code",
      "source": [
        "Str1 =\"AjayKumarAjakumaajaajaysubudhiaj\"\n",
        "str2 = \"ja\"\n",
        "print(Str1.count(str2))"
      ],
      "metadata": {
        "colab": {
          "base_uri": "https://localhost:8080/"
        },
        "id": "LpjyYDvdrag1",
        "outputId": "57d3e5f3-d84c-4a9c-8bfa-ec596065b0c1"
      },
      "execution_count": 5,
      "outputs": [
        {
          "output_type": "stream",
          "name": "stdout",
          "text": [
            "4\n"
          ]
        }
      ]
    },
    {
      "cell_type": "code",
      "source": [
        "Str1 =\"AjayKumarAjakumaajaajaysubudhiaj\"\n",
        "str2 = \"ja\"\n",
        "for\n",
        "print(Str1.count(str2))"
      ],
      "metadata": {
        "id": "RT9VewW6sANo"
      },
      "execution_count": null,
      "outputs": []
    },
    {
      "cell_type": "code",
      "source": [
        "String1 = '''I'm a Geek and I live in a world of \"Geeks\"'''\n",
        "print(\"String with the use of Triple Quotes: \")\n",
        "print(String1)"
      ],
      "metadata": {
        "colab": {
          "base_uri": "https://localhost:8080/"
        },
        "id": "NtLiAwPrtnMM",
        "outputId": "082aaa79-218d-4234-d473-3ff3ef22e1b6"
      },
      "execution_count": 12,
      "outputs": [
        {
          "output_type": "stream",
          "name": "stdout",
          "text": [
            "String with the use of Triple Quotes: \n",
            "I'm a Geek and I live in a world of \"Geeks\"\n"
          ]
        }
      ]
    },
    {
      "cell_type": "code",
      "source": [
        "String1 = \"GeeksForGeeks\"\n",
        "print(String1)\n",
        "\n",
        "# Printing 3rd to 12th character\n",
        "print(String1[3:12])\n",
        "print(String1[3::])\n",
        "\n",
        "# Printing characters between\n",
        "# 3rd and 2nd last character\n",
        "print(\"\\nSlicing characters between \" +\n",
        "      \"3rd and 2nd last character: \")\n",
        "print(String1[3:-2])"
      ],
      "metadata": {
        "colab": {
          "base_uri": "https://localhost:8080/"
        },
        "id": "Hj8QbV3UBG8p",
        "outputId": "569394d3-801f-4dbf-9978-07e2534c6eda"
      },
      "execution_count": 25,
      "outputs": [
        {
          "output_type": "stream",
          "name": "stdout",
          "text": [
            "GeeksForGeeks\n",
            "ksForGeek\n",
            "ksForGeeks\n",
            "\n",
            "Slicing characters between 3rd and 2nd last character: \n",
            "ksForGee\n"
          ]
        }
      ]
    },
    {
      "cell_type": "code",
      "source": [
        "String1 = \"GeeksForGeeksForGeeks\"\n",
        "index1 = String1.index('For')\n",
        "count1 = String1.count('For')\n",
        "index2 = String1.rfind('For')\n",
        "\n",
        "print(String1[index1:index2])\n",
        "print(count1)\n",
        "print(index2)"
      ],
      "metadata": {
        "colab": {
          "base_uri": "https://localhost:8080/"
        },
        "id": "qxuh9XcwRYP5",
        "outputId": "410b8075-8e29-4d6f-8291-67a86d9f9819"
      },
      "execution_count": 5,
      "outputs": [
        {
          "output_type": "stream",
          "name": "stdout",
          "text": [
            "ForGeeks\n",
            "2\n",
            "13\n"
          ]
        }
      ]
    },
    {
      "cell_type": "code",
      "source": [
        "String1 = \"GeeksForGeeksForGeeks\"\n",
        "String1.replace('For','In')\n",
        "print(String1)"
      ],
      "metadata": {
        "colab": {
          "base_uri": "https://localhost:8080/"
        },
        "id": "sovxQVS-sFz_",
        "outputId": "b1af0ee6-e756-4845-d571-54b48dded2b4"
      },
      "execution_count": 10,
      "outputs": [
        {
          "output_type": "stream",
          "name": "stdout",
          "text": [
            "GeeksForGeeksForGeeks\n"
          ]
        }
      ]
    },
    {
      "cell_type": "code",
      "source": [
        "String1 = \"GeeksForGeeks\"\n",
        "j=0\n",
        "for i in String1:\n",
        "    print(j,i)\n",
        "    j+=1"
      ],
      "metadata": {
        "colab": {
          "base_uri": "https://localhost:8080/"
        },
        "id": "Ni5Vjpj6KaQm",
        "outputId": "d37137e0-2590-4556-fe40-c2a8faa85f85"
      },
      "execution_count": 21,
      "outputs": [
        {
          "output_type": "stream",
          "name": "stdout",
          "text": [
            "0 G\n",
            "1 e\n",
            "2 e\n",
            "3 k\n",
            "4 s\n",
            "5 F\n",
            "6 o\n",
            "7 r\n",
            "8 G\n",
            "9 e\n",
            "10 e\n",
            "11 k\n",
            "12 s\n"
          ]
        }
      ]
    },
    {
      "cell_type": "code",
      "source": [
        "string = 'random'\n",
        "print(\"index of 'and' in string:\", string.index('ndom'))"
      ],
      "metadata": {
        "colab": {
          "base_uri": "https://localhost:8080/"
        },
        "id": "EQocEDfTLurR",
        "outputId": "23903ebe-ad38-44c4-e167-b58f11bdaca9"
      },
      "execution_count": 24,
      "outputs": [
        {
          "output_type": "stream",
          "name": "stdout",
          "text": [
            "index of 'and' in string: 2\n"
          ]
        }
      ]
    },
    {
      "cell_type": "code",
      "source": [],
      "metadata": {
        "id": "3MsYNlMwnKlb"
      },
      "execution_count": 4,
      "outputs": []
    }
  ]
}