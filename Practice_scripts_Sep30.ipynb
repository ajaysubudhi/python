{
  "nbformat": 4,
  "nbformat_minor": 0,
  "metadata": {
    "colab": {
      "provenance": [],
      "authorship_tag": "ABX9TyOS/8Xqhj4DEGn9hA9zhKfP",
      "include_colab_link": true
    },
    "kernelspec": {
      "name": "python3",
      "display_name": "Python 3"
    },
    "language_info": {
      "name": "python"
    }
  },
  "cells": [
    {
      "cell_type": "markdown",
      "metadata": {
        "id": "view-in-github",
        "colab_type": "text"
      },
      "source": [
        "<a href=\"https://colab.research.google.com/github/ajaysubudhi/python/blob/main/Practice_scripts_Sep30.ipynb\" target=\"_parent\"><img src=\"https://colab.research.google.com/assets/colab-badge.svg\" alt=\"Open In Colab\"/></a>"
      ]
    },
    {
      "cell_type": "code",
      "execution_count": 4,
      "metadata": {
        "colab": {
          "base_uri": "https://localhost:8080/"
        },
        "id": "85KIkuEfl8px",
        "outputId": "3b1851a5-60a0-406b-ec22-085c47a19a47"
      },
      "outputs": [
        {
          "output_type": "stream",
          "name": "stdout",
          "text": [
            "4\n"
          ]
        }
      ],
      "source": [
        "Str1 =\"Ajay Kumar Aja kuma aja ajay subudhi aj\"\n",
        "str2 = \"ja\"\n",
        "print(Str1.count(str2))\n"
      ]
    },
    {
      "cell_type": "code",
      "source": [
        "Str1 =\"AjayKumarAjakumaajaajaysubudhiaj\"\n",
        "str2 = \"ja\"\n",
        "print(Str1.count(str2))"
      ],
      "metadata": {
        "colab": {
          "base_uri": "https://localhost:8080/"
        },
        "id": "LpjyYDvdrag1",
        "outputId": "57d3e5f3-d84c-4a9c-8bfa-ec596065b0c1"
      },
      "execution_count": 5,
      "outputs": [
        {
          "output_type": "stream",
          "name": "stdout",
          "text": [
            "4\n"
          ]
        }
      ]
    },
    {
      "cell_type": "code",
      "source": [
        "Str1 =\"AjayKumarAjakumaajaajaysubudhiaj\"\n",
        "str2 = \"ja\"\n",
        "for\n",
        "print(Str1.count(str2))"
      ],
      "metadata": {
        "colab": {
          "base_uri": "https://localhost:8080/",
          "height": 108
        },
        "id": "RT9VewW6sANo",
        "outputId": "2fcb2a6c-8c4f-48e4-b598-35aa3a1875dd"
      },
      "execution_count": 11,
      "outputs": [
        {
          "output_type": "error",
          "ename": "SyntaxError",
          "evalue": "invalid syntax (<ipython-input-11-1793fb1a2215>, line 3)",
          "traceback": [
            "\u001b[0;36m  File \u001b[0;32m\"<ipython-input-11-1793fb1a2215>\"\u001b[0;36m, line \u001b[0;32m3\u001b[0m\n\u001b[0;31m    for\u001b[0m\n\u001b[0m        ^\u001b[0m\n\u001b[0;31mSyntaxError\u001b[0m\u001b[0;31m:\u001b[0m invalid syntax\n"
          ]
        }
      ]
    },
    {
      "cell_type": "code",
      "source": [
        "String1 = '''I'm a Geek and I live in a world of \"Geeks\"'''\n",
        "print(\"String with the use of Triple Quotes: \")\n",
        "print(String1)"
      ],
      "metadata": {
        "colab": {
          "base_uri": "https://localhost:8080/"
        },
        "id": "NtLiAwPrtnMM",
        "outputId": "082aaa79-218d-4234-d473-3ff3ef22e1b6"
      },
      "execution_count": 12,
      "outputs": [
        {
          "output_type": "stream",
          "name": "stdout",
          "text": [
            "String with the use of Triple Quotes: \n",
            "I'm a Geek and I live in a world of \"Geeks\"\n"
          ]
        }
      ]
    },
    {
      "cell_type": "code",
      "source": [
        "String1 = \"GeeksForGeeks\"\n",
        "print(String1)\n",
        "\n",
        "# Printing 3rd to 12th character\n",
        "print(String1[3:12])\n",
        "print(String1[3::])\n",
        "\n",
        "# Printing characters between\n",
        "# 3rd and 2nd last character\n",
        "print(\"\\nSlicing characters between \" +\n",
        "      \"3rd and 2nd last character: \")\n",
        "print(String1[3:-2])"
      ],
      "metadata": {
        "colab": {
          "base_uri": "https://localhost:8080/"
        },
        "id": "Hj8QbV3UBG8p",
        "outputId": "569394d3-801f-4dbf-9978-07e2534c6eda"
      },
      "execution_count": 25,
      "outputs": [
        {
          "output_type": "stream",
          "name": "stdout",
          "text": [
            "GeeksForGeeks\n",
            "ksForGeek\n",
            "ksForGeeks\n",
            "\n",
            "Slicing characters between 3rd and 2nd last character: \n",
            "ksForGee\n"
          ]
        }
      ]
    },
    {
      "cell_type": "code",
      "source": [
        "String1 = \"GeeksForGeeksForGeeks\"\n",
        "index1 = String1.index('For')\n",
        "count1 = String1.count('For')\n",
        "index2 = String1.rfind('For')\n",
        "\n",
        "print(String1[index1:index2])\n",
        "print(count1)\n",
        "print(index2)"
      ],
      "metadata": {
        "colab": {
          "base_uri": "https://localhost:8080/"
        },
        "id": "qxuh9XcwRYP5",
        "outputId": "410b8075-8e29-4d6f-8291-67a86d9f9819"
      },
      "execution_count": 5,
      "outputs": [
        {
          "output_type": "stream",
          "name": "stdout",
          "text": [
            "ForGeeks\n",
            "2\n",
            "13\n"
          ]
        }
      ]
    },
    {
      "cell_type": "code",
      "source": [
        "String1 = \"GeeksForGeeksForGeeks\"\n",
        "String1 = String1.replace(\"For\",\"In\")\n",
        "print(String1)"
      ],
      "metadata": {
        "colab": {
          "base_uri": "https://localhost:8080/"
        },
        "id": "sovxQVS-sFz_",
        "outputId": "b9477022-db2d-481a-ec75-a699231ba99f"
      },
      "execution_count": 18,
      "outputs": [
        {
          "output_type": "stream",
          "name": "stdout",
          "text": [
            "GeeksInGeeksInGeeks\n"
          ]
        }
      ]
    },
    {
      "cell_type": "code",
      "source": [
        "main_string = \"Hello, World!\"\n",
        "sub_string = \"World\"\n",
        "new_sub_string = \"Python\"\n",
        "\n",
        "result = main_string.replace(sub_string, new_sub_string)\n",
        "\n",
        "print(result)  # Output: Hello, Python!\n"
      ],
      "metadata": {
        "colab": {
          "base_uri": "https://localhost:8080/"
        },
        "id": "kw1tgLGWXPIq",
        "outputId": "6e284d61-126c-4cd0-fef7-79b20aeb5ddc"
      },
      "execution_count": 14,
      "outputs": [
        {
          "output_type": "stream",
          "name": "stdout",
          "text": [
            "Hello, Python!\n"
          ]
        }
      ]
    },
    {
      "cell_type": "code",
      "source": [
        "String1 = \"GeeksForGeeks\"\n",
        "j=0\n",
        "for i in String1:\n",
        "    print(j,i)\n",
        "    j+=1"
      ],
      "metadata": {
        "colab": {
          "base_uri": "https://localhost:8080/"
        },
        "id": "Ni5Vjpj6KaQm",
        "outputId": "d37137e0-2590-4556-fe40-c2a8faa85f85"
      },
      "execution_count": 21,
      "outputs": [
        {
          "output_type": "stream",
          "name": "stdout",
          "text": [
            "0 G\n",
            "1 e\n",
            "2 e\n",
            "3 k\n",
            "4 s\n",
            "5 F\n",
            "6 o\n",
            "7 r\n",
            "8 G\n",
            "9 e\n",
            "10 e\n",
            "11 k\n",
            "12 s\n"
          ]
        }
      ]
    },
    {
      "cell_type": "code",
      "source": [
        "string = 'random'\n",
        "print(\"index of 'and' in string:\", string.index('ndom'))"
      ],
      "metadata": {
        "colab": {
          "base_uri": "https://localhost:8080/"
        },
        "id": "EQocEDfTLurR",
        "outputId": "23903ebe-ad38-44c4-e167-b58f11bdaca9"
      },
      "execution_count": 24,
      "outputs": [
        {
          "output_type": "stream",
          "name": "stdout",
          "text": [
            "index of 'and' in string: 2\n"
          ]
        }
      ]
    },
    {
      "cell_type": "markdown",
      "source": [
        "Reverse a string"
      ],
      "metadata": {
        "id": "tkZ6SdJjY8GE"
      }
    },
    {
      "cell_type": "code",
      "source": [
        "def reverse_string(String1):\n",
        "\tstr_len = len(String1)\n",
        "\tStr2  = \" \"\n",
        "\ti = 0\n",
        "\twhile i < str_len -1 :\n",
        "\t\tStr2 = String1[i] + Str2\n",
        "\t\ti = i+1\n",
        "\treturn Str2\n",
        "print(reverse_string(\"LaxmipriyaSudarshan\"))"
      ],
      "metadata": {
        "colab": {
          "base_uri": "https://localhost:8080/"
        },
        "id": "WyKMQb4lY7Q4",
        "outputId": "f1bb6489-f4ec-4b70-d428-055a6de5e25c"
      },
      "execution_count": 15,
      "outputs": [
        {
          "output_type": "stream",
          "name": "stdout",
          "text": [
            "ahsraduSayirpimxaL \n"
          ]
        }
      ]
    },
    {
      "cell_type": "code",
      "source": [
        "str1 = \"LaxmipriyaSudarshan\"\n",
        "str1 = str1[::-1]\n",
        "print(str1)"
      ],
      "metadata": {
        "colab": {
          "base_uri": "https://localhost:8080/"
        },
        "id": "-CNhxTr8fi0x",
        "outputId": "4a849b9f-a7fd-48df-cacd-3fc9a6b7a340"
      },
      "execution_count": 14,
      "outputs": [
        {
          "output_type": "stream",
          "name": "stdout",
          "text": [
            "nahsraduSayirpimxaL\n"
          ]
        }
      ]
    },
    {
      "cell_type": "code",
      "source": [
        "def reverse_string(String1):\n",
        "  new_str=''\n",
        "  for i in String1 :\n",
        "    new_str = i+new_str\n",
        "  return new_str\n",
        "print(reverse_string(\"LaxmipriyaSudarshan\"))"
      ],
      "metadata": {
        "colab": {
          "base_uri": "https://localhost:8080/"
        },
        "id": "nzbmPd5EibCe",
        "outputId": "46493a7e-7afd-46ac-c666-925abde841a5"
      },
      "execution_count": 23,
      "outputs": [
        {
          "output_type": "stream",
          "name": "stdout",
          "text": [
            "nahsraduSayirpimxaL\n"
          ]
        }
      ]
    },
    {
      "cell_type": "code",
      "source": [
        "def reverse(s):\n",
        "    if len(s) == 0:\n",
        "        return s\n",
        "    else:\n",
        "        return reverse(s[1:]) + s[0]\n",
        "        print(reverse(s))\n",
        "\n",
        "\n",
        "s = \"Geeksforgeeks\"\n",
        "\n",
        "print(\"The original string is : \", end=\"\")\n",
        "print(s)\n",
        "\n",
        "print(\"The reversed string(using recursion) is : \", end=\"\")\n",
        "print(reverse(s))"
      ],
      "metadata": {
        "colab": {
          "base_uri": "https://localhost:8080/"
        },
        "id": "Fzt_8pzJjOzD",
        "outputId": "aff57e8e-2dbe-47f0-8af4-6c1a4dc51213"
      },
      "execution_count": 1,
      "outputs": [
        {
          "output_type": "stream",
          "name": "stdout",
          "text": [
            "The original string is : Geeksforgeeks\n",
            "The reversed string(using recursion) is : skeegrofskeeG\n"
          ]
        }
      ]
    },
    {
      "cell_type": "code",
      "source": [
        "# prompt: str1 = \"LaxmipriyaSudarshan\"\n",
        "\n",
        "str1 = \"LaxmipriyaSudarshan\"\n",
        "reversed_str1 = str1[::-1]\n",
        "print(reversed_str1)\n"
      ],
      "metadata": {
        "id": "3MsYNlMwnKlb"
      },
      "execution_count": 4,
      "outputs": []
    },
    {
      "cell_type": "code",
      "source": [
        "str0 ='B0B6G0R6R0R6G9'\n",
        "str1 = list(str0)\n",
        "strB=[]\n",
        "strR=[]\n",
        "strG=[]\n",
        "i=0\n",
        "while i < len(str1):\n",
        "  if str1[i] == 'B':\n",
        "    strB.append(str1[i+1])\n",
        "  elif str1[i] == 'R':\n",
        "    strR.append(str1[i+1])\n",
        "  elif str1[i] == 'G':\n",
        "    strG.append(str1[i+1])\n",
        "  i=i+1\n",
        "#print(str0,len(str1))\n",
        "print(strB,strR,strG)\n",
        "result = list(set(strB) & set(strR) & set(strG))\n",
        "print(len(result))\n",
        "\n"
      ],
      "metadata": {
        "colab": {
          "base_uri": "https://localhost:8080/"
        },
        "id": "cF-PpzowZSOr",
        "outputId": "50302d88-21d4-4b39-e9a8-78c34d69fd96"
      },
      "execution_count": 43,
      "outputs": [
        {
          "output_type": "stream",
          "name": "stdout",
          "text": [
            "['0', '6'] ['6', '0', '6'] ['0', '9']\n",
            "1\n"
          ]
        }
      ]
    },
    {
      "cell_type": "code",
      "source": [
        "print(len(('2' * 14301)))"
      ],
      "metadata": {
        "colab": {
          "base_uri": "https://localhost:8080/"
        },
        "id": "1L7Brrx9y688",
        "outputId": "5a4942f4-73a5-4e94-fb59-48e0fef9eec5"
      },
      "execution_count": 6,
      "outputs": [
        {
          "output_type": "stream",
          "name": "stdout",
          "text": [
            "14301\n"
          ]
        }
      ]
    },
    {
      "cell_type": "code",
      "source": [
        "print(10**4)"
      ],
      "metadata": {
        "colab": {
          "base_uri": "https://localhost:8080/"
        },
        "id": "7zSv0p0fzcEx",
        "outputId": "f5941f14-223b-4391-cef9-501dcbbac969"
      },
      "execution_count": 7,
      "outputs": [
        {
          "output_type": "stream",
          "name": "stdout",
          "text": [
            "10000\n"
          ]
        }
      ]
    },
    {
      "cell_type": "code",
      "source": [
        "s = ['a', 'b', 'c', 'd', 'e']\n",
        "s = s[::-1]\n",
        "print(s)"
      ],
      "metadata": {
        "colab": {
          "base_uri": "https://localhost:8080/"
        },
        "id": "3tEF8UpOM8Dj",
        "outputId": "f94edf24-b6ba-4fbe-ca8f-8204425c774c"
      },
      "execution_count": 1,
      "outputs": [
        {
          "output_type": "stream",
          "name": "stdout",
          "text": [
            "['e', 'd', 'c', 'b', 'a']\n"
          ]
        }
      ]
    },
    {
      "cell_type": "code",
      "source": [
        "s = ['a', 'b', 'c', 'd', 'e']\n",
        "s.reverse()\n",
        "print(s)"
      ],
      "metadata": {
        "colab": {
          "base_uri": "https://localhost:8080/"
        },
        "id": "4iqC6-FUP7-M",
        "outputId": "f06f0d00-5f8f-4a55-ea7c-e84b9e6c418b"
      },
      "execution_count": 2,
      "outputs": [
        {
          "output_type": "stream",
          "name": "stdout",
          "text": [
            "['e', 'd', 'c', 'b', 'a']\n"
          ]
        }
      ]
    },
    {
      "cell_type": "code",
      "source": [
        " s = ['a', 'b', 'c', 'd', 'e']\n",
        " j = k = 0\n",
        " srl_len = len(s)\n",
        " while j < srl_len:\n",
        "    s.append(s[k])\n",
        "    s.pop(k)\n",
        "    j = j+1\n",
        " print(s)"
      ],
      "metadata": {
        "colab": {
          "base_uri": "https://localhost:8080/"
        },
        "id": "NiHwbBWCQKsk",
        "outputId": "600403f6-5ca2-4a83-94a5-9deded2579e0"
      },
      "execution_count": 9,
      "outputs": [
        {
          "output_type": "stream",
          "name": "stdout",
          "text": [
            "['a', 'b', 'c', 'd', 'e']\n"
          ]
        }
      ]
    },
    {
      "cell_type": "code",
      "source": [
        "def split_string(string, length):\n",
        "    return [string[i:i + length] for i in range(0, len(string), length)]\n",
        "\n",
        "string = \"abcdefg\"\n",
        "length = 2\n",
        "result = split_string(string, length)\n",
        "result[0] = result[0][::-1]\n",
        "#result = \"\".join(result)\n",
        "print(result)\n"
      ],
      "metadata": {
        "colab": {
          "base_uri": "https://localhost:8080/"
        },
        "id": "Y3p4tRZwjMO3",
        "outputId": "663bd887-ea6f-4dd0-9fb6-437cda1689f5"
      },
      "execution_count": 43,
      "outputs": [
        {
          "output_type": "stream",
          "name": "stdout",
          "text": [
            "['ab', 'cd', 'ef', 'g']\n"
          ]
        }
      ]
    },
    {
      "cell_type": "code",
      "source": [
        "Name=[\"Ted\",\"Evelen\",\"Mosby\"]\n",
        "print(\" \".join(Name))#used a space to separate list elements here.\n",
        "Students=[\"Barney\",\"Robin\",\"Lily\"]\n",
        "print(\"\".join(Students))"
      ],
      "metadata": {
        "colab": {
          "base_uri": "https://localhost:8080/"
        },
        "id": "0lH7JYnwnrt1",
        "outputId": "78d15216-387a-457e-ad39-80eeb6c22906"
      },
      "execution_count": 34,
      "outputs": [
        {
          "output_type": "stream",
          "name": "stdout",
          "text": [
            "Ted Evelen Mosby\n",
            "BarneyRobinLily\n"
          ]
        }
      ]
    },
    {
      "cell_type": "code",
      "source": [
        "for i in range(0, round(100/39),39):\n",
        "    print(i)\n",
        "print(round(100/39))"
      ],
      "metadata": {
        "colab": {
          "base_uri": "https://localhost:8080/"
        },
        "id": "hv96E9Qglk1E",
        "outputId": "9b66a037-5edc-44e6-8cac-59feec5f3f24"
      },
      "execution_count": 80,
      "outputs": [
        {
          "output_type": "stream",
          "name": "stdout",
          "text": [
            "0\n",
            "3\n"
          ]
        }
      ]
    },
    {
      "cell_type": "code",
      "source": [
        "string1 = \"abcdefg\"\n",
        "print(string1[1:3])"
      ],
      "metadata": {
        "colab": {
          "base_uri": "https://localhost:8080/"
        },
        "id": "b3z4X2GhkvMU",
        "outputId": "9f11c0b6-e8ca-4d6e-adbf-964df7ab9177"
      },
      "execution_count": 18,
      "outputs": [
        {
          "output_type": "stream",
          "name": "stdout",
          "text": [
            "bc\n"
          ]
        }
      ]
    },
    {
      "cell_type": "code",
      "source": [
        "  s = \"fdcqkmxwholhytmhafpesaentdvxginrjlyqzyhehybknvdmfrfvtbsovjbdhevlfxpdaovjgunjqlimjkfnqcqnajmebeddqsgl\"\n",
        "  k = 39\n",
        "  string1 =[]\n",
        "  for i in range(0 , len(s),k):\n",
        "    string1 = string1+ [s[i:i + k]]\n",
        "             # [string[i:i + length]\n",
        "print(string1)\n"
      ],
      "metadata": {
        "colab": {
          "base_uri": "https://localhost:8080/"
        },
        "id": "nSnsWbRuwM3P",
        "outputId": "bf1d6ac0-dd94-40e9-cd37-ccd5a2a1933c"
      },
      "execution_count": 69,
      "outputs": [
        {
          "output_type": "stream",
          "name": "stdout",
          "text": [
            "['fdcqkmxwholhytmhafpesaentdvxginrjlyqzyh', 'ehybknvdmfrfvtbsovjbdhevlfxpdaovjgunjql', 'imjkfnqcqnajmebeddqsgl']\n"
          ]
        }
      ]
    },
    {
      "cell_type": "code",
      "source": [
        "len(\"fdcqkmxwholhytmhafpesaentdvxginrjlyqzyhehybknvdmfrfvtbsovjbdhevlfxpdaovjgunjqlimjkfnqcqnajmebeddqsgl\")"
      ],
      "metadata": {
        "colab": {
          "base_uri": "https://localhost:8080/"
        },
        "id": "aZcW2ptc1oT1",
        "outputId": "77b94a9c-1c72-42bd-bd5a-b73d851e0811"
      },
      "execution_count": 71,
      "outputs": [
        {
          "output_type": "execute_result",
          "data": {
            "text/plain": [
              "100"
            ]
          },
          "metadata": {},
          "execution_count": 71
        }
      ]
    },
    {
      "cell_type": "code",
      "source": [
        "print(round(100/39))"
      ],
      "metadata": {
        "colab": {
          "base_uri": "https://localhost:8080/"
        },
        "id": "aBfa0uYu18ok",
        "outputId": "b32911ba-e4ad-4f16-c52a-06a7c65de460"
      },
      "execution_count": 75,
      "outputs": [
        {
          "output_type": "stream",
          "name": "stdout",
          "text": [
            "3\n"
          ]
        }
      ]
    },
    {
      "cell_type": "code",
      "source": [
        "s = 'IceCreAm'\n",
        "new_list_index = []\n",
        "new_list = []\n",
        "count_vowel = 0\n",
        "s_list = []\n",
        "for i in range(0,len(s),1):\n",
        "  s_list.append(s[i])\n",
        "for i in s_list :\n",
        "  if (i in ('a','e','i','o','u','A','E','I','O','U')):\n",
        "    count_vowel = count_vowel+1\n",
        "    new_list_index.append(s_list.index(i))\n",
        "    new_list.append(i)\n",
        "    new_list.reverse()\n",
        "print(new_list_index)\n",
        "print(new_list)\n",
        "print(count_vowel)\n",
        "print(s_list)\n"
      ],
      "metadata": {
        "colab": {
          "base_uri": "https://localhost:8080/"
        },
        "id": "SoeEeGYd396H",
        "outputId": "22db5197-f809-482b-a77a-cf86f39e53c9"
      },
      "execution_count": 25,
      "outputs": [
        {
          "output_type": "stream",
          "name": "stdout",
          "text": [
            "[0, 2, 2, 6]\n",
            "['A', 'e', 'I', 'e']\n",
            "4\n",
            "['I', 'c', 'e', 'C', 'r', 'e', 'A', 'm']\n"
          ]
        }
      ]
    },
    {
      "cell_type": "code",
      "source": [
        "s = 'leetcode'\n",
        "new_list_index = []\n",
        "new_list = []\n",
        "count_vowel = 0\n",
        "s_list = []\n",
        "j = -1\n",
        "for i in range(0,len(s),1):\n",
        "  s_list.append(s[i])\n",
        "print(s_list)\n",
        "for i in s_list :\n",
        "  j = j+1\n",
        "  if (i in ('a','e','i','o','u','A','E','I','O','U')):\n",
        "    count_vowel = count_vowel+1\n",
        "    new_list_index.append(j)\n",
        "    new_list.append(i)\n",
        "if count_vowel > 1:\n",
        "  new_list.reverse()\n",
        "  for j,k in zip(new_list, new_list_index) :\n",
        "    s_list[k]=j\n",
        "s_list = \"\".join(s_list)\n",
        "print(new_list_index)\n",
        "print(new_list)\n",
        "print(count_vowel)\n",
        "print(s_list)\n"
      ],
      "metadata": {
        "colab": {
          "base_uri": "https://localhost:8080/"
        },
        "outputId": "8e28d295-4c1f-421b-936a-fa94c466e42b",
        "id": "Urf1vd2N-adg"
      },
      "execution_count": 60,
      "outputs": [
        {
          "output_type": "stream",
          "name": "stdout",
          "text": [
            "['l', 'e', 'e', 't', 'c', 'o', 'd', 'e']\n",
            "[1, 2, 5, 7]\n",
            "['e', 'o', 'e', 'e']\n",
            "4\n",
            "leotcede\n"
          ]
        }
      ]
    },
    {
      "cell_type": "code",
      "source": [
        "i='i'\n",
        "if i in ('a','e','i','o','u','A','E','I','O','U'):\n",
        "  print(\"yes\")\n",
        "else :\n",
        "  print(\"no\")"
      ],
      "metadata": {
        "colab": {
          "base_uri": "https://localhost:8080/"
        },
        "id": "B-6z-fBF5uAt",
        "outputId": "c5cb9ad3-a51f-4c6a-f77c-9ae9902e355c"
      },
      "execution_count": 17,
      "outputs": [
        {
          "output_type": "stream",
          "name": "stdout",
          "text": [
            "yes\n"
          ]
        }
      ]
    },
    {
      "cell_type": "code",
      "source": [
        ""
      ],
      "metadata": {
        "id": "LfapLRT26IWb"
      },
      "execution_count": null,
      "outputs": []
    },
    {
      "cell_type": "code",
      "source": [
        "s = 'IceCreAm'\n",
        "s_list = []\n",
        "for i in range(0,len(s),1):\n",
        "  s_list.append(s[i])\n",
        "print(s_list)"
      ],
      "metadata": {
        "colab": {
          "base_uri": "https://localhost:8080/"
        },
        "id": "AaEeS4FR6HBk",
        "outputId": "853c43f4-7e61-4b27-f102-5e166f0fd9fe"
      },
      "execution_count": 22,
      "outputs": [
        {
          "output_type": "stream",
          "name": "stdout",
          "text": [
            "['I', 'c', 'e', 'C', 'r', 'e', 'A', 'm']\n"
          ]
        }
      ]
    }
  ]
}